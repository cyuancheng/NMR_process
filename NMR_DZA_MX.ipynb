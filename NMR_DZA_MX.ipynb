{
  "nbformat": 4,
  "nbformat_minor": 0,
  "metadata": {
    "colab": {
      "name": "NMR_DZA_MX.ipynb",
      "version": "0.3.2",
      "provenance": [],
      "collapsed_sections": [],
      "include_colab_link": true
    },
    "kernelspec": {
      "name": "python3",
      "display_name": "Python 3"
    }
  },
  "cells": [
    {
      "cell_type": "markdown",
      "metadata": {
        "id": "view-in-github",
        "colab_type": "text"
      },
      "source": [
        "<a href=\"https://colab.research.google.com/github/cyuancheng/NMR_process/blob/master/NMR_DZA_MX.ipynb\" target=\"_parent\"><img src=\"https://colab.research.google.com/assets/colab-badge.svg\" alt=\"Open In Colab\"/></a>"
      ]
    },
    {
      "metadata": {
        "id": "U4CM2nSDfU7u",
        "colab_type": "text"
      },
      "cell_type": "markdown",
      "source": [
        "**Figure generation (P-31 NMR spectra for Toothpaste comparison)**"
      ]
    },
    {
      "metadata": {
        "id": "Kk6ULKpmfYfn",
        "colab_type": "code",
        "colab": {}
      },
      "cell_type": "code",
      "source": [
        "%reload_ext autoreload\n",
        "%autoreload 2\n",
        "%matplotlib inline"
      ],
      "execution_count": 0,
      "outputs": []
    },
    {
      "metadata": {
        "id": "F8QnCDvEiEWk",
        "colab_type": "code",
        "colab": {}
      },
      "cell_type": "code",
      "source": [
        "#load python packages\n",
        "import matplotlib.pyplot as plt\n",
        "import numpy as np\n",
        "import pandas as pd"
      ],
      "execution_count": 0,
      "outputs": []
    },
    {
      "metadata": {
        "id": "j7S5IRSHiPEU",
        "colab_type": "text"
      },
      "cell_type": "markdown",
      "source": [
        "mount Google Drive locally"
      ]
    },
    {
      "metadata": {
        "id": "myJvwfBVoSxN",
        "colab_type": "code",
        "outputId": "dfe16d32-ad1c-4712-d94a-b00b1744a39b",
        "colab": {
          "base_uri": "https://localhost:8080/",
          "height": 122
        }
      },
      "cell_type": "code",
      "source": [
        "# Load the Drive helper and mount\n",
        "from google.colab import drive\n",
        "\n",
        "# This will prompt for authorization.\n",
        "drive.mount('/content/drive')"
      ],
      "execution_count": 3,
      "outputs": [
        {
          "output_type": "stream",
          "text": [
            "Go to this URL in a browser: https://accounts.google.com/o/oauth2/auth?client_id=947318989803-6bn6qk8qdgf4n4g3pfee6491hc0brc4i.apps.googleusercontent.com&redirect_uri=urn%3Aietf%3Awg%3Aoauth%3A2.0%3Aoob&scope=email%20https%3A%2F%2Fwww.googleapis.com%2Fauth%2Fdocs.test%20https%3A%2F%2Fwww.googleapis.com%2Fauth%2Fdrive%20https%3A%2F%2Fwww.googleapis.com%2Fauth%2Fdrive.photos.readonly%20https%3A%2F%2Fwww.googleapis.com%2Fauth%2Fpeopleapi.readonly&response_type=code\n",
            "\n",
            "Enter your authorization code:\n",
            "··········\n",
            "Mounted at /content/drive\n"
          ],
          "name": "stdout"
        }
      ]
    },
    {
      "metadata": {
        "id": "4s_gm6R2iTP3",
        "colab_type": "code",
        "outputId": "7bde302c-3318-41fd-9bd0-05d80d364ff7",
        "colab": {
          "base_uri": "https://localhost:8080/",
          "height": 153
        }
      },
      "cell_type": "code",
      "source": [
        "# After executing the cell above, Drive\n",
        "# files will be present in \"/content/drive/My Drive\".\n",
        "!ls \"/content/drive/My Drive/data_NMR\""
      ],
      "execution_count": 4,
      "outputs": [
        {
          "output_type": "stream",
          "text": [
            "DZA_97_LB_EMO.csv\n",
            "DZA_98_DB_EMO.csv\n",
            "DZA_99_LBDB_EMO.csv\n",
            "TP_DZA_lump.2001_MX_white_8410343.fid.csv\n",
            "TP_DZA_lump.2002_Mex_blue_8410336.fid.csv\n",
            "TP_DZA_lump.2003_MX_white_8409493.fid.csv\n",
            "TP_DZA_lump.2004_MX_blue_8409473.fid.csv\n",
            "TP_DZA_lump.2005_MX_TP.fid.csv\n"
          ],
          "name": "stdout"
        }
      ]
    },
    {
      "metadata": {
        "id": "3CgkIlesjGO_",
        "colab_type": "code",
        "colab": {}
      },
      "cell_type": "code",
      "source": [
        "# load file\n",
        "# doc1, doc2, doc3 are EMO toothpaste from China (no lump)\n",
        "path = '/content/drive/My Drive/data_NMR/'\n",
        "doc1 = pd.read_csv(path+'DZA_97_LB_EMO.csv', sep ='\\t', header=None)\n",
        "doc2 = pd.read_csv(path+'DZA_98_DB_EMO.csv', sep ='\\t', header=None)\n",
        "doc3 = pd.read_csv(path+'DZA_99_LBDB_EMO.csv', sep ='\\t', header=None)\n",
        "\n",
        "#doc 4-8 are toothpaste from MX (no lump)m 2019/03/11\n",
        "doc4 = pd.read_csv(path+'TP_DZA_lump.2001_MX_white_8410343.fid.csv', sep ='\\t', header=None)\n",
        "doc5 = pd.read_csv(path+'TP_DZA_lump.2002_Mex_blue_8410336.fid.csv', sep ='\\t', header=None)\n",
        "doc6 = pd.read_csv(path+'TP_DZA_lump.2003_MX_white_8409493.fid.csv', sep ='\\t', header=None)\n",
        "doc7 = pd.read_csv(path+'TP_DZA_lump.2004_MX_blue_8409473.fid.csv', sep ='\\t', header=None)\n",
        "doc8 = pd.read_csv(path+'TP_DZA_lump.2005_MX_TP.fid.csv', sep ='\\t', header=None)"
      ],
      "execution_count": 0,
      "outputs": []
    },
    {
      "metadata": {
        "id": "jaesEUvcjXdz",
        "colab_type": "code",
        "colab": {}
      },
      "cell_type": "code",
      "source": [
        "doc8.head(); # check data frame"
      ],
      "execution_count": 0,
      "outputs": []
    },
    {
      "metadata": {
        "id": "bYN-zzTZp3ui",
        "colab_type": "code",
        "colab": {}
      },
      "cell_type": "code",
      "source": [
        "x1 = doc1.iloc[:,0];y1 = doc1.iloc[:,1]\n",
        "x2 = doc2.iloc[:,0];y2 = doc2.iloc[:,1]\n",
        "x3 = doc3.iloc[:,0];y3 = doc3.iloc[:,1]\n",
        "x4 = doc4.iloc[:,0];y4 = doc4.iloc[:,1]\n",
        "x5 = doc5.iloc[:,0];y5 = doc5.iloc[:,1]\n",
        "x6 = doc6.iloc[:,0];y6 = doc6.iloc[:,1]\n",
        "x7 = doc7.iloc[:,0];y7 = doc7.iloc[:,1]\n",
        "x8 = doc8.iloc[:,0];y8 = doc8.iloc[:,1]"
      ],
      "execution_count": 0,
      "outputs": []
    },
    {
      "metadata": {
        "id": "9BipoPoInhOk",
        "colab_type": "code",
        "colab": {}
      },
      "cell_type": "code",
      "source": [
        "# Normalize spectra\n",
        "max_val = max(max(y1), max(y2), max(y3), max(y4), max(y5), max(y6), max(y7), max(y8) ) # find max value\n",
        "y1=y1/max_val; y2=y2/max_val;y3=y3/max_val;y4=y4/max_val;y5=y5/max_val;y6=y6/max_val;y7=y7/max_val;y8=y8/max_val;"
      ],
      "execution_count": 0,
      "outputs": []
    },
    {
      "metadata": {
        "id": "oKxsEO0JqFjI",
        "colab_type": "code",
        "colab": {}
      },
      "cell_type": "code",
      "source": [
        "# add offset on y axis\n",
        "a = 1.\n",
        "y10 = y6 +0\n",
        "y20 = y7 +1*a\n",
        "y30 = y8 +2*a"
      ],
      "execution_count": 0,
      "outputs": []
    },
    {
      "metadata": {
        "id": "IrirYDOUnZFn",
        "colab_type": "code",
        "outputId": "ee58a037-7c36-4f7a-fbf6-46933ec1344f",
        "colab": {
          "base_uri": "https://localhost:8080/",
          "height": 562
        }
      },
      "cell_type": "code",
      "source": [
        "#fig = plt.figure()  # an empty figure with no axes\n",
        "#fig.suptitle('No axes on this figure')  # Add a title so we know which it is\n",
        "#fig, ax_lst = plt.subplots(2, 2)  # a figure with a 2x2 grid of Axes\n",
        "\n",
        "\n",
        "fig = plt.figure(figsize=(5,10), dpi=64) # adjust figure size\n",
        "\n",
        "\n",
        "\n",
        "ax = fig.gca()\n",
        "\n",
        "# white background\n",
        "ax.set_facecolor((1, 1, 1))\n",
        "\n",
        "# Create the plot\n",
        "plt.plot(x1, y10, label='LB', color=\"black\")\n",
        "plt.plot(x2, y20, label='DB', color=\"black\")\n",
        "plt.plot(x3, y30, label='LB/DB', color=\"white\")\n",
        "\n",
        "# Custom x and y axis / tick\n",
        "plt.tick_params(axis='x', colors='black', direction='out', length=5, width=2)\n",
        "plt.xticks([10, 5, 0, -5, -10], fontsize='16', horizontalalignment='center')\n",
        "plt.xlabel('ppm, $^{31}$P', fontsize='16')\n",
        "plt.xlim(10,-10)  # x axis range\n",
        "ax.yaxis.set_ticklabels([]) # remove y axis\n",
        "\n",
        "\n",
        "# Hide grid lines\n",
        "ax.grid(False)\n",
        "\n",
        "# change figure size\n",
        "#DPI = plt.gcf().get_dpi()\n",
        "#fig.set_size_inches(512.0/float(DPI),1024.0/float(DPI))\n",
        "\n",
        "\n",
        "plt.show()\n",
        "\n",
        "#fig.savefig(\"test.png\")\n",
        "# top (y3, y2, y1) \n",
        "  "
      ],
      "execution_count": 94,
      "outputs": [
        {
          "output_type": "display_data",
          "data": {
            "image/png": "[encoded data removed]",
            "text/plain": [
              "<Figure size 320x640 with 1 Axes>"
            ]
          },
          "metadata": {
            "tags": []
          }
        }
      ]
    },
    {
      "metadata": {
        "id": "y1vBxPZMmU6H",
        "colab_type": "code",
        "colab": {}
      },
      "cell_type": "code",
      "source": [
        ""
      ],
      "execution_count": 0,
      "outputs": []
    }
  ]
}