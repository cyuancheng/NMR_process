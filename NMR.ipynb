{
  "nbformat": 4,
  "nbformat_minor": 0,
  "metadata": {
    "colab": {
      "name": "NMR.ipynb",
      "version": "0.3.2",
      "provenance": [],
      "collapsed_sections": [],
      "include_colab_link": true
    },
    "kernelspec": {
      "name": "python3",
      "display_name": "Python 3"
    }
  },
  "cells": [
    {
      "cell_type": "markdown",
      "metadata": {
        "id": "view-in-github",
        "colab_type": "text"
      },
      "source": [
        "<a href=\"https://colab.research.google.com/github/cyuancheng/NMR_process/blob/master/NMR.ipynb\" target=\"_parent\"><img src=\"https://colab.research.google.com/assets/colab-badge.svg\" alt=\"Open In Colab\"/></a>"
      ]
    },
    {
      "metadata": {
        "id": "U4CM2nSDfU7u",
        "colab_type": "text"
      },
      "cell_type": "markdown",
      "source": [
        "**Figure generation (NMR spectra)**"
      ]
    },
    {
      "metadata": {
        "id": "Kk6ULKpmfYfn",
        "colab_type": "code",
        "colab": {}
      },
      "cell_type": "code",
      "source": [
        "%reload_ext autoreload\n",
        "%autoreload 2\n",
        "%matplotlib inline"
      ],
      "execution_count": 0,
      "outputs": []
    },
    {
      "metadata": {
        "id": "F8QnCDvEiEWk",
        "colab_type": "code",
        "colab": {}
      },
      "cell_type": "code",
      "source": [
        "#load python packages\n",
        "import matplotlib.pyplot as plt\n",
        "import numpy as np\n",
        "import pandas as pd"
      ],
      "execution_count": 0,
      "outputs": []
    },
    {
      "metadata": {
        "id": "j7S5IRSHiPEU",
        "colab_type": "text"
      },
      "cell_type": "markdown",
      "source": [
        "mount Google Drive locally"
      ]
    },
    {
      "metadata": {
        "id": "myJvwfBVoSxN",
        "colab_type": "code",
        "outputId": "8e56c6e3-61f3-4e96-fb56-a0d1bc195dbe",
        "colab": {
          "base_uri": "https://localhost:8080/",
          "height": 34
        }
      },
      "cell_type": "code",
      "source": [
        "# Load the Drive helper and mount\n",
        "from google.colab import drive\n",
        "\n",
        "# This will prompt for authorization.\n",
        "drive.mount('/content/drive')"
      ],
      "execution_count": 0,
      "outputs": [
        {
          "output_type": "stream",
          "text": [
            "Drive already mounted at /content/drive; to attempt to forcibly remount, call drive.mount(\"/content/drive\", force_remount=True).\n"
          ],
          "name": "stdout"
        }
      ]
    },
    {
      "metadata": {
        "id": "4s_gm6R2iTP3",
        "colab_type": "code",
        "outputId": "ae539954-a92e-4abe-e704-dde9a8279910",
        "colab": {
          "base_uri": "https://localhost:8080/",
          "height": 34
        }
      },
      "cell_type": "code",
      "source": [
        "# After executing the cell above, Drive\n",
        "# files will be present in \"/content/drive/My Drive\".\n",
        "!ls \"/content/drive/My Drive/data_NMR\""
      ],
      "execution_count": 0,
      "outputs": [
        {
          "output_type": "stream",
          "text": [
            "DZA_97_LB_EMO.csv  DZA_98_DB_EMO.csv  DZA_99_LBDB_EMO.csv\n"
          ],
          "name": "stdout"
        }
      ]
    },
    {
      "metadata": {
        "id": "3CgkIlesjGO_",
        "colab_type": "code",
        "colab": {}
      },
      "cell_type": "code",
      "source": [
        "# load file\n",
        "doc1 = pd.read_csv('/content/drive/My Drive/data_NMR/DZA_97_LB_EMO.csv', sep ='\\t', header=None)\n",
        "doc2 = pd.read_csv('/content/drive/My Drive/data_NMR/DZA_98_DB_EMO.csv', sep ='\\t', header=None)\n",
        "doc3 = pd.read_csv('/content/drive/My Drive/data_NMR/DZA_99_LBDB_EMO.csv', sep ='\\t', header=None)\n",
        "\n",
        "# doc1, doc2, doc3 are EMO toothpaste from China (no lump)\n"
      ],
      "execution_count": 0,
      "outputs": []
    },
    {
      "metadata": {
        "id": "jaesEUvcjXdz",
        "colab_type": "code",
        "outputId": "733fc0ba-2777-4daa-c9d8-6f974e4a02eb",
        "colab": {
          "base_uri": "https://localhost:8080/",
          "height": 204
        }
      },
      "cell_type": "code",
      "source": [
        "doc1.head() # check data frame"
      ],
      "execution_count": 0,
      "outputs": [
        {
          "output_type": "execute_result",
          "data": {
            "text/html": [
              "<div>\n",
              "<style scoped>\n",
              "    .dataframe tbody tr th:only-of-type {\n",
              "        vertical-align: middle;\n",
              "    }\n",
              "\n",
              "    .dataframe tbody tr th {\n",
              "        vertical-align: top;\n",
              "    }\n",
              "\n",
              "    .dataframe thead th {\n",
              "        text-align: right;\n",
              "    }\n",
              "</style>\n",
              "<table border=\"1\" class=\"dataframe\">\n",
              "  <thead>\n",
              "    <tr style=\"text-align: right;\">\n",
              "      <th></th>\n",
              "      <th>0</th>\n",
              "      <th>1</th>\n",
              "    </tr>\n",
              "  </thead>\n",
              "  <tbody>\n",
              "    <tr>\n",
              "      <th>0</th>\n",
              "      <td>-54.1810</td>\n",
              "      <td>-1.00293</td>\n",
              "    </tr>\n",
              "    <tr>\n",
              "      <th>1</th>\n",
              "      <td>-54.1702</td>\n",
              "      <td>-1.00293</td>\n",
              "    </tr>\n",
              "    <tr>\n",
              "      <th>2</th>\n",
              "      <td>-54.1594</td>\n",
              "      <td>-1.00293</td>\n",
              "    </tr>\n",
              "    <tr>\n",
              "      <th>3</th>\n",
              "      <td>-54.1487</td>\n",
              "      <td>-1.00293</td>\n",
              "    </tr>\n",
              "    <tr>\n",
              "      <th>4</th>\n",
              "      <td>-54.1379</td>\n",
              "      <td>-1.00293</td>\n",
              "    </tr>\n",
              "  </tbody>\n",
              "</table>\n",
              "</div>"
            ],
            "text/plain": [
              "         0        1\n",
              "0 -54.1810 -1.00293\n",
              "1 -54.1702 -1.00293\n",
              "2 -54.1594 -1.00293\n",
              "3 -54.1487 -1.00293\n",
              "4 -54.1379 -1.00293"
            ]
          },
          "metadata": {
            "tags": []
          },
          "execution_count": 71
        }
      ]
    },
    {
      "metadata": {
        "id": "bYN-zzTZp3ui",
        "colab_type": "code",
        "colab": {}
      },
      "cell_type": "code",
      "source": [
        "x1 = doc1.iloc[:,0]\n",
        "y1 = doc1.iloc[:,1]\n",
        "\n",
        "x2 = doc2.iloc[:,0]\n",
        "y2 = doc2.iloc[:,1]\n",
        "\n",
        "x3 = doc3.iloc[:,0]\n",
        "y3 = doc3.iloc[:,1]"
      ],
      "execution_count": 0,
      "outputs": []
    },
    {
      "metadata": {
        "id": "9BipoPoInhOk",
        "colab_type": "code",
        "colab": {}
      },
      "cell_type": "code",
      "source": [
        "# Normalize spectra\n",
        "max_val = max(max(y1), max(y2), max(y3)) # find max value\n",
        "y1=y1/max_val; y2=y2/max_val;y3=y3/max_val; #normalization"
      ],
      "execution_count": 0,
      "outputs": []
    },
    {
      "metadata": {
        "id": "oKxsEO0JqFjI",
        "colab_type": "code",
        "colab": {}
      },
      "cell_type": "code",
      "source": [
        "# add offset on y axis\n",
        "a = 1\n",
        "y10 = y1 +0\n",
        "y20 = y2 +1*a\n",
        "y30 = y3 +2*a"
      ],
      "execution_count": 0,
      "outputs": []
    },
    {
      "metadata": {
        "id": "IrirYDOUnZFn",
        "colab_type": "code",
        "outputId": "3956ec15-9e62-49ed-8a22-93a9a0470c21",
        "colab": {
          "base_uri": "https://localhost:8080/",
          "height": 850
        }
      },
      "cell_type": "code",
      "source": [
        "#fig = plt.figure()  # an empty figure with no axes\n",
        "#fig.suptitle('No axes on this figure')  # Add a title so we know which it is\n",
        "#fig, ax_lst = plt.subplots(2, 2)  # a figure with a 2x2 grid of Axes\n",
        "\n",
        "\n",
        "fig = plt.figure() # adjust figure size\n",
        "ax = fig.gca()\n",
        "\n",
        "# white background\n",
        "ax.set_facecolor((1, 1, 1))\n",
        "\n",
        "# Create the plot\n",
        "plt.plot(x1, y10, label='LB', color=\"black\")\n",
        "plt.plot(x2, y20, label='DB', color=\"black\")\n",
        "plt.plot(x3, y30, label='LB/DB', color=\"black\")\n",
        "\n",
        "# Custom x and y axis / tick\n",
        "plt.tick_params(axis='x', colors='black', direction='out', length=5, width=2)\n",
        "plt.xticks(fontsize='16', horizontalalignment='center')\n",
        "plt.xlabel('ppm', fontsize='16')\n",
        "plt.xlim(10,-10)  # x axis range\n",
        "ax.yaxis.set_ticklabels([]) # remove y axis\n",
        "\n",
        "\n",
        "# Hide grid lines\n",
        "ax.grid(False)\n",
        "\n",
        "# change figure size\n",
        "DPI = plt.gcf().get_dpi()\n",
        "fig.set_size_inches(512.0/float(DPI),1024.0/float(DPI))\n",
        "\n",
        "\n",
        "plt.show()\n",
        "\n",
        "#fig.savefig(\"test.png\")\n",
        "# top (y3, y2, y1) \n",
        "  "
      ],
      "execution_count": 0,
      "outputs": [
        {
          "output_type": "display_data",
          "data": {
            "image/png": "[encoded data removed]",
            "text/plain": [
              "<Figure size 512x1024 with 1 Axes>"
            ]
          },
          "metadata": {
            "tags": []
          }
        }
      ]
    },
    {
      "metadata": {
        "id": "y1vBxPZMmU6H",
        "colab_type": "code",
        "colab": {}
      },
      "cell_type": "code",
      "source": [
        ""
      ],
      "execution_count": 0,
      "outputs": []
    }
  ]
}